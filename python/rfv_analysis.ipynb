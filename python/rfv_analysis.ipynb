{
 "cells": [
  {
   "cell_type": "code",
   "execution_count": 1,
   "metadata": {},
   "outputs": [],
   "source": [
    "import numpy as np\n",
    "import pandas as pd\n",
    "\n",
    "import matplotlib.pyplot as plt\n",
    "import seaborn as sns\n",
    "\n",
    "# Jupyter Notebook Configuration\n",
    "sns.set()\n",
    "import warnings\n",
    "warnings.filterwarnings(\"ignore\")"
   ]
  },
  {
   "cell_type": "code",
   "execution_count": 2,
   "metadata": {},
   "outputs": [
    {
     "data": {
      "text/html": [
       "<div>\n",
       "<style scoped>\n",
       "    .dataframe tbody tr th:only-of-type {\n",
       "        vertical-align: middle;\n",
       "    }\n",
       "\n",
       "    .dataframe tbody tr th {\n",
       "        vertical-align: top;\n",
       "    }\n",
       "\n",
       "    .dataframe thead th {\n",
       "        text-align: right;\n",
       "    }\n",
       "</style>\n",
       "<table border=\"1\" class=\"dataframe\">\n",
       "  <thead>\n",
       "    <tr style=\"text-align: right;\">\n",
       "      <th></th>\n",
       "      <th>TransactionNo</th>\n",
       "      <th>Date</th>\n",
       "      <th>ProductNo</th>\n",
       "      <th>ProductName</th>\n",
       "      <th>Price</th>\n",
       "      <th>Quantity</th>\n",
       "      <th>CustomerNo</th>\n",
       "      <th>Country</th>\n",
       "    </tr>\n",
       "  </thead>\n",
       "  <tbody>\n",
       "    <tr>\n",
       "      <th>0</th>\n",
       "      <td>581482</td>\n",
       "      <td>12/9/2019</td>\n",
       "      <td>22485</td>\n",
       "      <td>Set Of 2 Wooden Market Crates</td>\n",
       "      <td>21.47</td>\n",
       "      <td>12</td>\n",
       "      <td>17490.0</td>\n",
       "      <td>United Kingdom</td>\n",
       "    </tr>\n",
       "    <tr>\n",
       "      <th>1</th>\n",
       "      <td>581475</td>\n",
       "      <td>12/9/2019</td>\n",
       "      <td>22596</td>\n",
       "      <td>Christmas Star Wish List Chalkboard</td>\n",
       "      <td>10.65</td>\n",
       "      <td>36</td>\n",
       "      <td>13069.0</td>\n",
       "      <td>United Kingdom</td>\n",
       "    </tr>\n",
       "    <tr>\n",
       "      <th>2</th>\n",
       "      <td>581475</td>\n",
       "      <td>12/9/2019</td>\n",
       "      <td>23235</td>\n",
       "      <td>Storage Tin Vintage Leaf</td>\n",
       "      <td>11.53</td>\n",
       "      <td>12</td>\n",
       "      <td>13069.0</td>\n",
       "      <td>United Kingdom</td>\n",
       "    </tr>\n",
       "    <tr>\n",
       "      <th>3</th>\n",
       "      <td>581475</td>\n",
       "      <td>12/9/2019</td>\n",
       "      <td>23272</td>\n",
       "      <td>Tree T-Light Holder Willie Winkie</td>\n",
       "      <td>10.65</td>\n",
       "      <td>12</td>\n",
       "      <td>13069.0</td>\n",
       "      <td>United Kingdom</td>\n",
       "    </tr>\n",
       "    <tr>\n",
       "      <th>4</th>\n",
       "      <td>581475</td>\n",
       "      <td>12/9/2019</td>\n",
       "      <td>23239</td>\n",
       "      <td>Set Of 4 Knick Knack Tins Poppies</td>\n",
       "      <td>11.94</td>\n",
       "      <td>6</td>\n",
       "      <td>13069.0</td>\n",
       "      <td>United Kingdom</td>\n",
       "    </tr>\n",
       "  </tbody>\n",
       "</table>\n",
       "</div>"
      ],
      "text/plain": [
       "  TransactionNo       Date ProductNo                          ProductName   \n",
       "0        581482  12/9/2019     22485        Set Of 2 Wooden Market Crates  \\\n",
       "1        581475  12/9/2019     22596  Christmas Star Wish List Chalkboard   \n",
       "2        581475  12/9/2019     23235             Storage Tin Vintage Leaf   \n",
       "3        581475  12/9/2019     23272    Tree T-Light Holder Willie Winkie   \n",
       "4        581475  12/9/2019     23239    Set Of 4 Knick Knack Tins Poppies   \n",
       "\n",
       "   Price  Quantity  CustomerNo         Country  \n",
       "0  21.47        12     17490.0  United Kingdom  \n",
       "1  10.65        36     13069.0  United Kingdom  \n",
       "2  11.53        12     13069.0  United Kingdom  \n",
       "3  10.65        12     13069.0  United Kingdom  \n",
       "4  11.94         6     13069.0  United Kingdom  "
      ]
     },
     "execution_count": 2,
     "metadata": {},
     "output_type": "execute_result"
    }
   ],
   "source": [
    "# Import the data\n",
    "data = pd.read_csv('../data/ecommerce_data.csv')\n",
    "\n",
    "data.head()"
   ]
  },
  {
   "cell_type": "code",
   "execution_count": 3,
   "metadata": {},
   "outputs": [
    {
     "data": {
      "text/plain": [
       "(536350, 8)"
      ]
     },
     "execution_count": 3,
     "metadata": {},
     "output_type": "execute_result"
    }
   ],
   "source": [
    "data.shape"
   ]
  },
  {
   "cell_type": "code",
   "execution_count": 4,
   "metadata": {},
   "outputs": [
    {
     "name": "stdout",
     "output_type": "stream",
     "text": [
      "<class 'pandas.core.frame.DataFrame'>\n",
      "RangeIndex: 536350 entries, 0 to 536349\n",
      "Data columns (total 8 columns):\n",
      " #   Column         Non-Null Count   Dtype  \n",
      "---  ------         --------------   -----  \n",
      " 0   TransactionNo  536350 non-null  object \n",
      " 1   Date           536350 non-null  object \n",
      " 2   ProductNo      536350 non-null  object \n",
      " 3   ProductName    536350 non-null  object \n",
      " 4   Price          536350 non-null  float64\n",
      " 5   Quantity       536350 non-null  int64  \n",
      " 6   CustomerNo     536295 non-null  float64\n",
      " 7   Country        536350 non-null  object \n",
      "dtypes: float64(2), int64(1), object(5)\n",
      "memory usage: 32.7+ MB\n"
     ]
    }
   ],
   "source": [
    "data.info()"
   ]
  },
  {
   "cell_type": "code",
   "execution_count": 5,
   "metadata": {},
   "outputs": [],
   "source": [
    "# Transform date into datetime format\n",
    "data['Date'] = pd.to_datetime(data['Date'])"
   ]
  },
  {
   "cell_type": "code",
   "execution_count": 6,
   "metadata": {},
   "outputs": [],
   "source": [
    "# Create a feature with the value spent in each purchase (assuming each row represents a different purchase)\n",
    "data['PurchaseValue'] = data['Price'] * data['Quantity']"
   ]
  },
  {
   "cell_type": "code",
   "execution_count": 7,
   "metadata": {},
   "outputs": [
    {
     "data": {
      "text/html": [
       "<div>\n",
       "<style scoped>\n",
       "    .dataframe tbody tr th:only-of-type {\n",
       "        vertical-align: middle;\n",
       "    }\n",
       "\n",
       "    .dataframe tbody tr th {\n",
       "        vertical-align: top;\n",
       "    }\n",
       "\n",
       "    .dataframe thead th {\n",
       "        text-align: right;\n",
       "    }\n",
       "</style>\n",
       "<table border=\"1\" class=\"dataframe\">\n",
       "  <thead>\n",
       "    <tr style=\"text-align: right;\">\n",
       "      <th></th>\n",
       "      <th>Date</th>\n",
       "      <th>Price</th>\n",
       "      <th>Quantity</th>\n",
       "      <th>CustomerNo</th>\n",
       "      <th>PurchaseValue</th>\n",
       "    </tr>\n",
       "  </thead>\n",
       "  <tbody>\n",
       "    <tr>\n",
       "      <th>count</th>\n",
       "      <td>536350</td>\n",
       "      <td>536350.000000</td>\n",
       "      <td>536350.000000</td>\n",
       "      <td>536295.000000</td>\n",
       "      <td>5.363500e+05</td>\n",
       "    </tr>\n",
       "    <tr>\n",
       "      <th>mean</th>\n",
       "      <td>2019-07-04 02:52:31.891116032</td>\n",
       "      <td>12.662182</td>\n",
       "      <td>9.919347</td>\n",
       "      <td>15227.893178</td>\n",
       "      <td>1.123893e+02</td>\n",
       "    </tr>\n",
       "    <tr>\n",
       "      <th>min</th>\n",
       "      <td>2018-12-01 00:00:00</td>\n",
       "      <td>5.130000</td>\n",
       "      <td>-80995.000000</td>\n",
       "      <td>12004.000000</td>\n",
       "      <td>-8.401138e+05</td>\n",
       "    </tr>\n",
       "    <tr>\n",
       "      <th>25%</th>\n",
       "      <td>2019-03-28 00:00:00</td>\n",
       "      <td>10.990000</td>\n",
       "      <td>1.000000</td>\n",
       "      <td>13807.000000</td>\n",
       "      <td>1.618000e+01</td>\n",
       "    </tr>\n",
       "    <tr>\n",
       "      <th>50%</th>\n",
       "      <td>2019-07-20 00:00:00</td>\n",
       "      <td>11.940000</td>\n",
       "      <td>3.000000</td>\n",
       "      <td>15152.000000</td>\n",
       "      <td>4.272000e+01</td>\n",
       "    </tr>\n",
       "    <tr>\n",
       "      <th>75%</th>\n",
       "      <td>2019-10-19 00:00:00</td>\n",
       "      <td>14.090000</td>\n",
       "      <td>10.000000</td>\n",
       "      <td>16729.000000</td>\n",
       "      <td>1.160000e+02</td>\n",
       "    </tr>\n",
       "    <tr>\n",
       "      <th>max</th>\n",
       "      <td>2019-12-09 00:00:00</td>\n",
       "      <td>660.620000</td>\n",
       "      <td>80995.000000</td>\n",
       "      <td>18287.000000</td>\n",
       "      <td>1.002718e+06</td>\n",
       "    </tr>\n",
       "    <tr>\n",
       "      <th>std</th>\n",
       "      <td>NaN</td>\n",
       "      <td>8.490450</td>\n",
       "      <td>216.662300</td>\n",
       "      <td>1716.582932</td>\n",
       "      <td>2.277384e+03</td>\n",
       "    </tr>\n",
       "  </tbody>\n",
       "</table>\n",
       "</div>"
      ],
      "text/plain": [
       "                                Date          Price       Quantity   \n",
       "count                         536350  536350.000000  536350.000000  \\\n",
       "mean   2019-07-04 02:52:31.891116032      12.662182       9.919347   \n",
       "min              2018-12-01 00:00:00       5.130000  -80995.000000   \n",
       "25%              2019-03-28 00:00:00      10.990000       1.000000   \n",
       "50%              2019-07-20 00:00:00      11.940000       3.000000   \n",
       "75%              2019-10-19 00:00:00      14.090000      10.000000   \n",
       "max              2019-12-09 00:00:00     660.620000   80995.000000   \n",
       "std                              NaN       8.490450     216.662300   \n",
       "\n",
       "          CustomerNo  PurchaseValue  \n",
       "count  536295.000000   5.363500e+05  \n",
       "mean    15227.893178   1.123893e+02  \n",
       "min     12004.000000  -8.401138e+05  \n",
       "25%     13807.000000   1.618000e+01  \n",
       "50%     15152.000000   4.272000e+01  \n",
       "75%     16729.000000   1.160000e+02  \n",
       "max     18287.000000   1.002718e+06  \n",
       "std      1716.582932   2.277384e+03  "
      ]
     },
     "execution_count": 7,
     "metadata": {},
     "output_type": "execute_result"
    }
   ],
   "source": [
    "# Let's get a better understand of the data\n",
    "data.describe()"
   ]
  },
  {
   "cell_type": "code",
   "execution_count": 8,
   "metadata": {},
   "outputs": [],
   "source": [
    "# Insights we have here:\n",
    "# - The average customer has ~10 items per purchase\n",
    "# - The average customer spends $112 per purchase\n",
    "# - The data covers one year from Dec 2018 to Dec 2019"
   ]
  },
  {
   "cell_type": "code",
   "execution_count": 9,
   "metadata": {},
   "outputs": [
    {
     "data": {
      "text/plain": [
       "4738"
      ]
     },
     "execution_count": 9,
     "metadata": {},
     "output_type": "execute_result"
    }
   ],
   "source": [
    "# Number of diferent customers\n",
    "data['CustomerNo'].nunique()"
   ]
  },
  {
   "cell_type": "code",
   "execution_count": 11,
   "metadata": {},
   "outputs": [
    {
     "data": {
      "image/png": "[encoded data removed]",
      "text/plain": [
       "<Figure size 2000x500 with 3 Axes>"
      ]
     },
     "metadata": {},
     "output_type": "display_data"
    }
   ],
   "source": [
    "# Distribution of purchase values, quantity and price\n",
    "fig, ax = plt.subplots(1, 3, figsize = (20, 5))\n",
    "sns.boxplot(data['PurchaseValue'], ax = ax[0])\n",
    "sns.boxplot(data['Quantity'], ax = ax[1])\n",
    "sns.boxplot(data['Price'], ax = ax[2])\n",
    "plt.show()"
   ]
  },
  {
   "cell_type": "code",
   "execution_count": 16,
   "metadata": {},
   "outputs": [
    {
     "data": {
      "text/html": [
       "<div>\n",
       "<style scoped>\n",
       "    .dataframe tbody tr th:only-of-type {\n",
       "        vertical-align: middle;\n",
       "    }\n",
       "\n",
       "    .dataframe tbody tr th {\n",
       "        vertical-align: top;\n",
       "    }\n",
       "\n",
       "    .dataframe thead th {\n",
       "        text-align: right;\n",
       "    }\n",
       "</style>\n",
       "<table border=\"1\" class=\"dataframe\">\n",
       "  <thead>\n",
       "    <tr style=\"text-align: right;\">\n",
       "      <th></th>\n",
       "      <th>TransactionNo</th>\n",
       "      <th>Date</th>\n",
       "      <th>ProductNo</th>\n",
       "      <th>ProductName</th>\n",
       "      <th>Price</th>\n",
       "      <th>Quantity</th>\n",
       "      <th>CustomerNo</th>\n",
       "      <th>Country</th>\n",
       "      <th>PurchaseValue</th>\n",
       "    </tr>\n",
       "  </thead>\n",
       "  <tbody>\n",
       "    <tr>\n",
       "      <th>1616</th>\n",
       "      <td>C581484</td>\n",
       "      <td>2019-12-09</td>\n",
       "      <td>23843</td>\n",
       "      <td>Paper Craft Little Birdie</td>\n",
       "      <td>6.19</td>\n",
       "      <td>-80995</td>\n",
       "      <td>16446.0</td>\n",
       "      <td>United Kingdom</td>\n",
       "      <td>-501359.05</td>\n",
       "    </tr>\n",
       "    <tr>\n",
       "      <th>1617</th>\n",
       "      <td>C581490</td>\n",
       "      <td>2019-12-09</td>\n",
       "      <td>22178</td>\n",
       "      <td>Victorian Glass Hanging T-Light</td>\n",
       "      <td>6.19</td>\n",
       "      <td>-12</td>\n",
       "      <td>14397.0</td>\n",
       "      <td>United Kingdom</td>\n",
       "      <td>-74.28</td>\n",
       "    </tr>\n",
       "    <tr>\n",
       "      <th>1618</th>\n",
       "      <td>C581490</td>\n",
       "      <td>2019-12-09</td>\n",
       "      <td>23144</td>\n",
       "      <td>Zinc T-Light Holder Stars Small</td>\n",
       "      <td>6.04</td>\n",
       "      <td>-11</td>\n",
       "      <td>14397.0</td>\n",
       "      <td>United Kingdom</td>\n",
       "      <td>-66.44</td>\n",
       "    </tr>\n",
       "    <tr>\n",
       "      <th>1619</th>\n",
       "      <td>C581568</td>\n",
       "      <td>2019-12-09</td>\n",
       "      <td>21258</td>\n",
       "      <td>Victorian Sewing Box Large</td>\n",
       "      <td>6.19</td>\n",
       "      <td>-5</td>\n",
       "      <td>15311.0</td>\n",
       "      <td>United Kingdom</td>\n",
       "      <td>-30.95</td>\n",
       "    </tr>\n",
       "    <tr>\n",
       "      <th>1620</th>\n",
       "      <td>C581569</td>\n",
       "      <td>2019-12-09</td>\n",
       "      <td>84978</td>\n",
       "      <td>Hanging Heart Jar T-Light Holder</td>\n",
       "      <td>6.19</td>\n",
       "      <td>-1</td>\n",
       "      <td>17315.0</td>\n",
       "      <td>United Kingdom</td>\n",
       "      <td>-6.19</td>\n",
       "    </tr>\n",
       "    <tr>\n",
       "      <th>...</th>\n",
       "      <td>...</td>\n",
       "      <td>...</td>\n",
       "      <td>...</td>\n",
       "      <td>...</td>\n",
       "      <td>...</td>\n",
       "      <td>...</td>\n",
       "      <td>...</td>\n",
       "      <td>...</td>\n",
       "      <td>...</td>\n",
       "    </tr>\n",
       "    <tr>\n",
       "      <th>536345</th>\n",
       "      <td>C536548</td>\n",
       "      <td>2018-12-01</td>\n",
       "      <td>22168</td>\n",
       "      <td>Organiser Wood Antique White</td>\n",
       "      <td>18.96</td>\n",
       "      <td>-2</td>\n",
       "      <td>12472.0</td>\n",
       "      <td>Germany</td>\n",
       "      <td>-37.92</td>\n",
       "    </tr>\n",
       "    <tr>\n",
       "      <th>536346</th>\n",
       "      <td>C536548</td>\n",
       "      <td>2018-12-01</td>\n",
       "      <td>21218</td>\n",
       "      <td>Red Spotty Biscuit Tin</td>\n",
       "      <td>14.09</td>\n",
       "      <td>-3</td>\n",
       "      <td>12472.0</td>\n",
       "      <td>Germany</td>\n",
       "      <td>-42.27</td>\n",
       "    </tr>\n",
       "    <tr>\n",
       "      <th>536347</th>\n",
       "      <td>C536548</td>\n",
       "      <td>2018-12-01</td>\n",
       "      <td>20957</td>\n",
       "      <td>Porcelain Hanging Bell Small</td>\n",
       "      <td>11.74</td>\n",
       "      <td>-1</td>\n",
       "      <td>12472.0</td>\n",
       "      <td>Germany</td>\n",
       "      <td>-11.74</td>\n",
       "    </tr>\n",
       "    <tr>\n",
       "      <th>536348</th>\n",
       "      <td>C536548</td>\n",
       "      <td>2018-12-01</td>\n",
       "      <td>22580</td>\n",
       "      <td>Advent Calendar Gingham Sack</td>\n",
       "      <td>16.35</td>\n",
       "      <td>-4</td>\n",
       "      <td>12472.0</td>\n",
       "      <td>Germany</td>\n",
       "      <td>-65.40</td>\n",
       "    </tr>\n",
       "    <tr>\n",
       "      <th>536349</th>\n",
       "      <td>C536548</td>\n",
       "      <td>2018-12-01</td>\n",
       "      <td>22767</td>\n",
       "      <td>Triple Photo Frame Cornice</td>\n",
       "      <td>20.45</td>\n",
       "      <td>-2</td>\n",
       "      <td>12472.0</td>\n",
       "      <td>Germany</td>\n",
       "      <td>-40.90</td>\n",
       "    </tr>\n",
       "  </tbody>\n",
       "</table>\n",
       "<p>8585 rows × 9 columns</p>\n",
       "</div>"
      ],
      "text/plain": [
       "       TransactionNo       Date ProductNo                       ProductName   \n",
       "1616         C581484 2019-12-09     23843         Paper Craft Little Birdie  \\\n",
       "1617         C581490 2019-12-09     22178   Victorian Glass Hanging T-Light   \n",
       "1618         C581490 2019-12-09     23144   Zinc T-Light Holder Stars Small   \n",
       "1619         C581568 2019-12-09     21258        Victorian Sewing Box Large   \n",
       "1620         C581569 2019-12-09     84978  Hanging Heart Jar T-Light Holder   \n",
       "...              ...        ...       ...                               ...   \n",
       "536345       C536548 2018-12-01     22168      Organiser Wood Antique White   \n",
       "536346       C536548 2018-12-01     21218            Red Spotty Biscuit Tin   \n",
       "536347       C536548 2018-12-01     20957      Porcelain Hanging Bell Small   \n",
       "536348       C536548 2018-12-01     22580      Advent Calendar Gingham Sack   \n",
       "536349       C536548 2018-12-01     22767        Triple Photo Frame Cornice   \n",
       "\n",
       "        Price  Quantity  CustomerNo         Country  PurchaseValue  \n",
       "1616     6.19    -80995     16446.0  United Kingdom     -501359.05  \n",
       "1617     6.19       -12     14397.0  United Kingdom         -74.28  \n",
       "1618     6.04       -11     14397.0  United Kingdom         -66.44  \n",
       "1619     6.19        -5     15311.0  United Kingdom         -30.95  \n",
       "1620     6.19        -1     17315.0  United Kingdom          -6.19  \n",
       "...       ...       ...         ...             ...            ...  \n",
       "536345  18.96        -2     12472.0         Germany         -37.92  \n",
       "536346  14.09        -3     12472.0         Germany         -42.27  \n",
       "536347  11.74        -1     12472.0         Germany         -11.74  \n",
       "536348  16.35        -4     12472.0         Germany         -65.40  \n",
       "536349  20.45        -2     12472.0         Germany         -40.90  \n",
       "\n",
       "[8585 rows x 9 columns]"
      ]
     },
     "execution_count": 16,
     "metadata": {},
     "output_type": "execute_result"
    }
   ],
   "source": [
    "# We have negative quantities in the data, which does not make much sense.\n",
    "# Let's take a better look at them\n",
    "data[data['Quantity'] < 0]"
   ]
  },
  {
   "cell_type": "code",
   "execution_count": 35,
   "metadata": {},
   "outputs": [],
   "source": [
    "# We see there are 8585 rows with this problem, so less than 2% of the data.\n",
    "# I believe the best option we have here is to disconsider these rows\n",
    "# If I had access to the data source, I could try to understand if these negative quantities might be customers returning items\n",
    "\n",
    "data = data[data['Quantity'] > 0]"
   ]
  },
  {
   "cell_type": "code",
   "execution_count": 36,
   "metadata": {},
   "outputs": [
    {
     "data": {
      "text/plain": [
       "<Axes: xlabel='Date'>"
      ]
     },
     "execution_count": 36,
     "metadata": {},
     "output_type": "execute_result"
    },
    {
     "data": {
      "image/png": "[encoded data removed]",
      "text/plain": [
       "<Figure size 640x480 with 1 Axes>"
      ]
     },
     "metadata": {},
     "output_type": "display_data"
    }
   ],
   "source": [
    "# Plot of sum of purchase values by date in month/year\n",
    "data.groupby(data['Date'].dt.strftime('%Y-%m'))['PurchaseValue'].sum().plot()"
   ]
  },
  {
   "cell_type": "code",
   "execution_count": 40,
   "metadata": {},
   "outputs": [],
   "source": [
    "# We see that sales were more or less stable until August 2019, when they spiked, increasing > 50% in just three months\n",
    "# There is a huge decrease of sales in December 2023, but that is because we only have 9 days of data for that month\n",
    "# If we normalized that (multiplying by 3), we would get roughly 7.5M in sales for that month, which is in line with the previous months"
   ]
  },
  {
   "cell_type": "code",
   "execution_count": 41,
   "metadata": {},
   "outputs": [
    {
     "data": {
      "text/html": [
       "<div>\n",
       "<style scoped>\n",
       "    .dataframe tbody tr th:only-of-type {\n",
       "        vertical-align: middle;\n",
       "    }\n",
       "\n",
       "    .dataframe tbody tr th {\n",
       "        vertical-align: top;\n",
       "    }\n",
       "\n",
       "    .dataframe thead th {\n",
       "        text-align: right;\n",
       "    }\n",
       "</style>\n",
       "<table border=\"1\" class=\"dataframe\">\n",
       "  <thead>\n",
       "    <tr style=\"text-align: right;\">\n",
       "      <th></th>\n",
       "      <th>TransactionNo</th>\n",
       "      <th>Date</th>\n",
       "      <th>ProductNo</th>\n",
       "      <th>ProductName</th>\n",
       "      <th>Price</th>\n",
       "      <th>Quantity</th>\n",
       "      <th>CustomerNo</th>\n",
       "      <th>Country</th>\n",
       "      <th>PurchaseValue</th>\n",
       "      <th>Quantiles</th>\n",
       "      <th>PercentileRank</th>\n",
       "    </tr>\n",
       "  </thead>\n",
       "  <tbody>\n",
       "    <tr>\n",
       "      <th>0</th>\n",
       "      <td>581482</td>\n",
       "      <td>2019-12-09</td>\n",
       "      <td>22485</td>\n",
       "      <td>Set Of 2 Wooden Market Crates</td>\n",
       "      <td>21.47</td>\n",
       "      <td>12</td>\n",
       "      <td>17490.0</td>\n",
       "      <td>United Kingdom</td>\n",
       "      <td>257.64</td>\n",
       "      <td>(138.36, 1002718.1]</td>\n",
       "      <td>0.909041</td>\n",
       "    </tr>\n",
       "    <tr>\n",
       "      <th>1</th>\n",
       "      <td>581475</td>\n",
       "      <td>2019-12-09</td>\n",
       "      <td>22596</td>\n",
       "      <td>Christmas Star Wish List Chalkboard</td>\n",
       "      <td>10.65</td>\n",
       "      <td>36</td>\n",
       "      <td>13069.0</td>\n",
       "      <td>United Kingdom</td>\n",
       "      <td>383.40</td>\n",
       "      <td>(138.36, 1002718.1]</td>\n",
       "      <td>0.955401</td>\n",
       "    </tr>\n",
       "    <tr>\n",
       "      <th>2</th>\n",
       "      <td>581475</td>\n",
       "      <td>2019-12-09</td>\n",
       "      <td>23235</td>\n",
       "      <td>Storage Tin Vintage Leaf</td>\n",
       "      <td>11.53</td>\n",
       "      <td>12</td>\n",
       "      <td>13069.0</td>\n",
       "      <td>United Kingdom</td>\n",
       "      <td>138.36</td>\n",
       "      <td>(61.9, 138.36]</td>\n",
       "      <td>0.808014</td>\n",
       "    </tr>\n",
       "  </tbody>\n",
       "</table>\n",
       "</div>"
      ],
      "text/plain": [
       "  TransactionNo       Date ProductNo                          ProductName   \n",
       "0        581482 2019-12-09     22485        Set Of 2 Wooden Market Crates  \\\n",
       "1        581475 2019-12-09     22596  Christmas Star Wish List Chalkboard   \n",
       "2        581475 2019-12-09     23235             Storage Tin Vintage Leaf   \n",
       "\n",
       "   Price  Quantity  CustomerNo         Country  PurchaseValue   \n",
       "0  21.47        12     17490.0  United Kingdom         257.64  \\\n",
       "1  10.65        36     13069.0  United Kingdom         383.40   \n",
       "2  11.53        12     13069.0  United Kingdom         138.36   \n",
       "\n",
       "             Quantiles  PercentileRank  \n",
       "0  (138.36, 1002718.1]        0.909041  \n",
       "1  (138.36, 1002718.1]        0.955401  \n",
       "2       (61.9, 138.36]        0.808014  "
      ]
     },
     "execution_count": 41,
     "metadata": {},
     "output_type": "execute_result"
    }
   ],
   "source": [
    "# Create quartiles and percentile rank\n",
    "data[\"Quantiles\"] = pd.qcut(data['PurchaseValue'], 5)\n",
    "data[\"PercentileRank\"] = data['PurchaseValue'].rank(pct = True)\n",
    "\n",
    "data.head(3)"
   ]
  },
  {
   "cell_type": "code",
   "execution_count": 50,
   "metadata": {},
   "outputs": [
    {
     "data": {
      "text/plain": [
       "[(5.129, 14.48], (14.48, 29.22], (29.22, 61.9], (61.9, 138.36], (138.36, 1002718.1]]\n",
       "Categories (5, interval[float64, right]): [(5.129, 14.48] < (14.48, 29.22] < (29.22, 61.9] < (61.9, 138.36] < (138.36, 1002718.1]]"
      ]
     },
     "execution_count": 50,
     "metadata": {},
     "output_type": "execute_result"
    }
   ],
   "source": [
    "# Let's see the intervals for each quartile\n",
    "data['Quantiles'].unique().sort_values()"
   ]
  },
  {
   "cell_type": "code",
   "execution_count": null,
   "metadata": {},
   "outputs": [],
   "source": [
    "# We see that at least 80% of purchases are below $138.36\n",
    "# and then we have a few huge purchases with value equal to more than 1M in a single purchase"
   ]
  },
  {
   "cell_type": "code",
   "execution_count": null,
   "metadata": {},
   "outputs": [],
   "source": [
    "# Moving to the RFV analysis"
   ]
  },
  {
   "cell_type": "code",
   "execution_count": 51,
   "metadata": {},
   "outputs": [
    {
     "data": {
      "text/html": [
       "<div>\n",
       "<style scoped>\n",
       "    .dataframe tbody tr th:only-of-type {\n",
       "        vertical-align: middle;\n",
       "    }\n",
       "\n",
       "    .dataframe tbody tr th {\n",
       "        vertical-align: top;\n",
       "    }\n",
       "\n",
       "    .dataframe thead th {\n",
       "        text-align: right;\n",
       "    }\n",
       "</style>\n",
       "<table border=\"1\" class=\"dataframe\">\n",
       "  <thead>\n",
       "    <tr style=\"text-align: right;\">\n",
       "      <th></th>\n",
       "      <th>CustomerNo</th>\n",
       "      <th>Date</th>\n",
       "    </tr>\n",
       "  </thead>\n",
       "  <tbody>\n",
       "    <tr>\n",
       "      <th>0</th>\n",
       "      <td>12004.0</td>\n",
       "      <td>2019-04-26</td>\n",
       "    </tr>\n",
       "    <tr>\n",
       "      <th>1</th>\n",
       "      <td>12006.0</td>\n",
       "      <td>2019-05-05</td>\n",
       "    </tr>\n",
       "    <tr>\n",
       "      <th>2</th>\n",
       "      <td>12008.0</td>\n",
       "      <td>2019-03-08</td>\n",
       "    </tr>\n",
       "    <tr>\n",
       "      <th>3</th>\n",
       "      <td>12013.0</td>\n",
       "      <td>2018-12-15</td>\n",
       "    </tr>\n",
       "    <tr>\n",
       "      <th>4</th>\n",
       "      <td>12024.0</td>\n",
       "      <td>2019-06-16</td>\n",
       "    </tr>\n",
       "  </tbody>\n",
       "</table>\n",
       "</div>"
      ],
      "text/plain": [
       "   CustomerNo       Date\n",
       "0     12004.0 2019-04-26\n",
       "1     12006.0 2019-05-05\n",
       "2     12008.0 2019-03-08\n",
       "3     12013.0 2018-12-15\n",
       "4     12024.0 2019-06-16"
      ]
     },
     "execution_count": 51,
     "metadata": {},
     "output_type": "execute_result"
    }
   ],
   "source": [
    "data_recency = (\n",
    "    data[['CustomerNo', 'Date']]\n",
    "    .groupby('CustomerNo')['Date']\n",
    "    .agg('max')\n",
    "    .reset_index()\n",
    ")\n",
    "\n",
    "data_recency.head()"
   ]
  },
  {
   "cell_type": "code",
   "execution_count": 52,
   "metadata": {},
   "outputs": [
    {
     "data": {
      "text/html": [
       "<div>\n",
       "<style scoped>\n",
       "    .dataframe tbody tr th:only-of-type {\n",
       "        vertical-align: middle;\n",
       "    }\n",
       "\n",
       "    .dataframe tbody tr th {\n",
       "        vertical-align: top;\n",
       "    }\n",
       "\n",
       "    .dataframe thead th {\n",
       "        text-align: right;\n",
       "    }\n",
       "</style>\n",
       "<table border=\"1\" class=\"dataframe\">\n",
       "  <thead>\n",
       "    <tr style=\"text-align: right;\">\n",
       "      <th></th>\n",
       "      <th>CustomerNo</th>\n",
       "      <th>Date</th>\n",
       "      <th>Recency</th>\n",
       "    </tr>\n",
       "  </thead>\n",
       "  <tbody>\n",
       "    <tr>\n",
       "      <th>0</th>\n",
       "      <td>12004.0</td>\n",
       "      <td>2019-04-26</td>\n",
       "      <td>227</td>\n",
       "    </tr>\n",
       "    <tr>\n",
       "      <th>1</th>\n",
       "      <td>12006.0</td>\n",
       "      <td>2019-05-05</td>\n",
       "      <td>218</td>\n",
       "    </tr>\n",
       "    <tr>\n",
       "      <th>2</th>\n",
       "      <td>12008.0</td>\n",
       "      <td>2019-03-08</td>\n",
       "      <td>276</td>\n",
       "    </tr>\n",
       "    <tr>\n",
       "      <th>3</th>\n",
       "      <td>12013.0</td>\n",
       "      <td>2018-12-15</td>\n",
       "      <td>359</td>\n",
       "    </tr>\n",
       "    <tr>\n",
       "      <th>4</th>\n",
       "      <td>12024.0</td>\n",
       "      <td>2019-06-16</td>\n",
       "      <td>176</td>\n",
       "    </tr>\n",
       "  </tbody>\n",
       "</table>\n",
       "</div>"
      ],
      "text/plain": [
       "   CustomerNo       Date  Recency\n",
       "0     12004.0 2019-04-26      227\n",
       "1     12006.0 2019-05-05      218\n",
       "2     12008.0 2019-03-08      276\n",
       "3     12013.0 2018-12-15      359\n",
       "4     12024.0 2019-06-16      176"
      ]
     },
     "execution_count": 52,
     "metadata": {},
     "output_type": "execute_result"
    }
   ],
   "source": [
    "# Calculate the number of days since the last purchase, taking as reference the last date of the dataset\n",
    "data_recency['Recency'] = (data['Date'].max() - data_recency['Date']).dt.days\n",
    "\n",
    "data_recency.head()"
   ]
  },
  {
   "cell_type": "code",
   "execution_count": 53,
   "metadata": {},
   "outputs": [
    {
     "data": {
      "text/plain": [
       "count    4718.000000\n",
       "mean       95.992794\n",
       "std       101.758271\n",
       "min         0.000000\n",
       "25%        18.000000\n",
       "50%        53.000000\n",
       "75%       155.750000\n",
       "max       373.000000\n",
       "Name: Recency, dtype: float64"
      ]
     },
     "execution_count": 53,
     "metadata": {},
     "output_type": "execute_result"
    }
   ],
   "source": [
    "# Let's see the distribution of recency\n",
    "data_recency['Recency'].describe()"
   ]
  },
  {
   "cell_type": "code",
   "execution_count": null,
   "metadata": {},
   "outputs": [],
   "source": [
    "# We can see that the average recency is ~3 months"
   ]
  },
  {
   "cell_type": "code",
   "execution_count": 54,
   "metadata": {},
   "outputs": [
    {
     "data": {
      "text/plain": [
       "<Axes: xlabel='Recency'>"
      ]
     },
     "execution_count": 54,
     "metadata": {},
     "output_type": "execute_result"
    },
    {
     "data": {
      "image/png": "[encoded data removed]",
      "text/plain": [
       "<Figure size 640x480 with 1 Axes>"
      ]
     },
     "metadata": {},
     "output_type": "display_data"
    }
   ],
   "source": [
    "data_recency['Recency'].value_counts().sort_index().plot()"
   ]
  },
  {
   "cell_type": "code",
   "execution_count": 56,
   "metadata": {},
   "outputs": [],
   "source": [
    "# Drop the date column\n",
    "data_recency.drop('Date', axis = 1, inplace = True)"
   ]
  },
  {
   "cell_type": "code",
   "execution_count": 55,
   "metadata": {},
   "outputs": [],
   "source": [
    "# Now let's calculate the frequency of purchase for each consumer"
   ]
  },
  {
   "cell_type": "code",
   "execution_count": 57,
   "metadata": {},
   "outputs": [],
   "source": [
    "data_frequency = data[['CustomerNo']]\n",
    "\n",
    "data_frequency = data_frequency.groupby('CustomerNo').value_counts().reset_index()\n",
    "\n",
    "# rename columns\n",
    "data_frequency.rename(\n",
    "    columns = {'count' : 'Frequency'}, inplace = True\n",
    ")"
   ]
  },
  {
   "cell_type": "code",
   "execution_count": 58,
   "metadata": {},
   "outputs": [
    {
     "data": {
      "text/plain": [
       "count    4718.000000\n",
       "mean      111.861806\n",
       "std       234.884482\n",
       "min         1.000000\n",
       "25%        19.000000\n",
       "50%        50.500000\n",
       "75%       130.000000\n",
       "max      7835.000000\n",
       "Name: Frequency, dtype: float64"
      ]
     },
     "execution_count": 58,
     "metadata": {},
     "output_type": "execute_result"
    }
   ],
   "source": [
    "# Let's take a look at this data\n",
    "\n",
    "data_frequency['Frequency'].describe()"
   ]
  },
  {
   "cell_type": "code",
   "execution_count": 92,
   "metadata": {},
   "outputs": [],
   "source": [
    "# Now let's calculate the total purchase value by each consumer\n",
    "# I could also use the average purchase value, but I believe this choice depends on a better knowledge of the business\n",
    "# Since I do not have it here, I will go with the total purchase value for learning purposes\n",
    "# This represents the total amount each consumer has spent in the period considered here\n",
    "data_value = data[['CustomerNo', 'PurchaseValue']]\n",
    "\n",
    "data_value = data_value.groupby('CustomerNo')['PurchaseValue'].agg('sum').reset_index()\n",
    "\n",
    "data_value = data_value.rename(\n",
    "    columns = {'PurchaseValue' : 'Value'}\n",
    ")"
   ]
  },
  {
   "cell_type": "code",
   "execution_count": 109,
   "metadata": {},
   "outputs": [
    {
     "name": "stdout",
     "output_type": "stream",
     "text": [
      "Total sales in the period:  62965892.339999996\n"
     ]
    },
    {
     "data": {
      "text/plain": [
       "count    4.718000e+03\n",
       "mean     1.334589e+04\n",
       "std      5.439743e+04\n",
       "min      5.970000e+00\n",
       "25%      1.838447e+03\n",
       "50%      4.828470e+03\n",
       "75%      1.190628e+04\n",
       "max      2.112282e+06\n",
       "Name: Value, dtype: float64"
      ]
     },
     "execution_count": 109,
     "metadata": {},
     "output_type": "execute_result"
    }
   ],
   "source": [
    "# Let's also take a look at this data\n",
    "\n",
    "print('Total sales in the period: ', data_value['Value'].sum())\n",
    "data_value['Value'].describe()"
   ]
  },
  {
   "cell_type": "code",
   "execution_count": 94,
   "metadata": {},
   "outputs": [
    {
     "data": {
      "text/html": [
       "<div>\n",
       "<style scoped>\n",
       "    .dataframe tbody tr th:only-of-type {\n",
       "        vertical-align: middle;\n",
       "    }\n",
       "\n",
       "    .dataframe tbody tr th {\n",
       "        vertical-align: top;\n",
       "    }\n",
       "\n",
       "    .dataframe thead th {\n",
       "        text-align: right;\n",
       "    }\n",
       "</style>\n",
       "<table border=\"1\" class=\"dataframe\">\n",
       "  <thead>\n",
       "    <tr style=\"text-align: right;\">\n",
       "      <th></th>\n",
       "      <th>CustomerNo</th>\n",
       "      <th>Recency</th>\n",
       "      <th>Frequency</th>\n",
       "      <th>Value</th>\n",
       "    </tr>\n",
       "  </thead>\n",
       "  <tbody>\n",
       "    <tr>\n",
       "      <th>0</th>\n",
       "      <td>12004.0</td>\n",
       "      <td>227</td>\n",
       "      <td>56</td>\n",
       "      <td>1509.60</td>\n",
       "    </tr>\n",
       "    <tr>\n",
       "      <th>1</th>\n",
       "      <td>12006.0</td>\n",
       "      <td>218</td>\n",
       "      <td>1</td>\n",
       "      <td>24.76</td>\n",
       "    </tr>\n",
       "    <tr>\n",
       "      <th>2</th>\n",
       "      <td>12008.0</td>\n",
       "      <td>276</td>\n",
       "      <td>203</td>\n",
       "      <td>5689.57</td>\n",
       "    </tr>\n",
       "    <tr>\n",
       "      <th>3</th>\n",
       "      <td>12013.0</td>\n",
       "      <td>359</td>\n",
       "      <td>1</td>\n",
       "      <td>69.96</td>\n",
       "    </tr>\n",
       "    <tr>\n",
       "      <th>4</th>\n",
       "      <td>12024.0</td>\n",
       "      <td>176</td>\n",
       "      <td>5</td>\n",
       "      <td>149.52</td>\n",
       "    </tr>\n",
       "  </tbody>\n",
       "</table>\n",
       "</div>"
      ],
      "text/plain": [
       "   CustomerNo  Recency  Frequency    Value\n",
       "0     12004.0      227         56  1509.60\n",
       "1     12006.0      218          1    24.76\n",
       "2     12008.0      276        203  5689.57\n",
       "3     12013.0      359          1    69.96\n",
       "4     12024.0      176          5   149.52"
      ]
     },
     "execution_count": 94,
     "metadata": {},
     "output_type": "execute_result"
    }
   ],
   "source": [
    "# Combine all three data sets that we have create\n",
    "\n",
    "data_rfv = data_recency.merge(data_frequency, on = 'CustomerNo', how = 'left')\n",
    "data_rfv = data_rfv.merge(data_value, on = 'CustomerNo', how = 'left')\n",
    "\n",
    "data_rfv.head()"
   ]
  },
  {
   "cell_type": "code",
   "execution_count": null,
   "metadata": {},
   "outputs": [],
   "source": [
    "# Now that I have my data set on recency, frequency and value, \n",
    "# I want to use a clusterazition algorithm to understand the patterns in the data\n",
    "\n",
    "# I will use the k-means algorithm for that"
   ]
  },
  {
   "cell_type": "code",
   "execution_count": 95,
   "metadata": {},
   "outputs": [],
   "source": [
    "# First, we standardize the data\n",
    "\n",
    "from sklearn.preprocessing import StandardScaler\n",
    "\n",
    "feature_cols = ['Recency', 'Frequency', 'Value']\n",
    "\n",
    "standardized_data = data_rfv.copy()\n",
    "\n",
    "scaler = StandardScaler()\n",
    "scaler.fit(data_rfv[feature_cols])\n",
    "standardized_data[feature_cols] = scaler.transform(data_rfv[feature_cols])"
   ]
  },
  {
   "cell_type": "code",
   "execution_count": 96,
   "metadata": {},
   "outputs": [
    {
     "data": {
      "text/html": [
       "<div>\n",
       "<style scoped>\n",
       "    .dataframe tbody tr th:only-of-type {\n",
       "        vertical-align: middle;\n",
       "    }\n",
       "\n",
       "    .dataframe tbody tr th {\n",
       "        vertical-align: top;\n",
       "    }\n",
       "\n",
       "    .dataframe thead th {\n",
       "        text-align: right;\n",
       "    }\n",
       "</style>\n",
       "<table border=\"1\" class=\"dataframe\">\n",
       "  <thead>\n",
       "    <tr style=\"text-align: right;\">\n",
       "      <th></th>\n",
       "      <th>CustomerNo</th>\n",
       "      <th>Recency</th>\n",
       "      <th>Frequency</th>\n",
       "      <th>Value</th>\n",
       "    </tr>\n",
       "  </thead>\n",
       "  <tbody>\n",
       "    <tr>\n",
       "      <th>0</th>\n",
       "      <td>12004.0</td>\n",
       "      <td>1.287572</td>\n",
       "      <td>-0.237852</td>\n",
       "      <td>-0.217612</td>\n",
       "    </tr>\n",
       "    <tr>\n",
       "      <th>1</th>\n",
       "      <td>12006.0</td>\n",
       "      <td>1.199118</td>\n",
       "      <td>-0.472034</td>\n",
       "      <td>-0.244911</td>\n",
       "    </tr>\n",
       "    <tr>\n",
       "      <th>2</th>\n",
       "      <td>12008.0</td>\n",
       "      <td>1.769156</td>\n",
       "      <td>0.388054</td>\n",
       "      <td>-0.140763</td>\n",
       "    </tr>\n",
       "    <tr>\n",
       "      <th>3</th>\n",
       "      <td>12013.0</td>\n",
       "      <td>2.584901</td>\n",
       "      <td>-0.472034</td>\n",
       "      <td>-0.244080</td>\n",
       "    </tr>\n",
       "    <tr>\n",
       "      <th>4</th>\n",
       "      <td>12024.0</td>\n",
       "      <td>0.786331</td>\n",
       "      <td>-0.455003</td>\n",
       "      <td>-0.242617</td>\n",
       "    </tr>\n",
       "  </tbody>\n",
       "</table>\n",
       "</div>"
      ],
      "text/plain": [
       "   CustomerNo   Recency  Frequency     Value\n",
       "0     12004.0  1.287572  -0.237852 -0.217612\n",
       "1     12006.0  1.199118  -0.472034 -0.244911\n",
       "2     12008.0  1.769156   0.388054 -0.140763\n",
       "3     12013.0  2.584901  -0.472034 -0.244080\n",
       "4     12024.0  0.786331  -0.455003 -0.242617"
      ]
     },
     "execution_count": 96,
     "metadata": {},
     "output_type": "execute_result"
    }
   ],
   "source": [
    "standardized_data.head()"
   ]
  },
  {
   "cell_type": "code",
   "execution_count": 98,
   "metadata": {},
   "outputs": [
    {
     "data": {
      "image/png": "[encoded data removed]",
      "text/plain": [
       "<Figure size 1000x800 with 1 Axes>"
      ]
     },
     "metadata": {},
     "output_type": "display_data"
    }
   ],
   "source": [
    "# Now we use the K-means algorithm\n",
    "\n",
    "from sklearn.cluster import KMeans\n",
    "\n",
    "sse = []\n",
    "\n",
    "for k in range(1, 15):\n",
    "    kmeans = KMeans(n_clusters = k, random_state=42, n_init=50)\n",
    "    kmeans.fit(standardized_data[feature_cols])\n",
    "    sse.append(kmeans.inertia_)\n",
    "\n",
    "# Elbow method plot\n",
    "plt.figure(figsize = (10, 8))\n",
    "plt.plot(sse)\n",
    "plt.xlabel('Nº of clusters')\n",
    "plt.ylabel('Sum of Squared Error')\n",
    "plt.show();"
   ]
  },
  {
   "cell_type": "code",
   "execution_count": 108,
   "metadata": {},
   "outputs": [
    {
     "name": "stdout",
     "output_type": "stream",
     "text": [
      "   Cluster  Customers    Recency    Frequency          Value\n",
      "0        0       4701  96.256541   104.630930   10808.490123\n",
      "1        1         17  23.058824  2111.411765  715010.604118\n",
      "   Cluster  Customers     Recency    Frequency          Value\n",
      "0        0         17   23.058824  2111.411765  715010.604118\n",
      "1        1       1274  244.368132    46.337520    3795.261177\n",
      "2        2       3427   41.195506   126.301722   13415.684076\n",
      "   Cluster  Customers     Recency    Frequency          Value\n",
      "0        0       3426   41.196439   126.268243   13292.474370\n",
      "1        1       1274  244.368132    46.337520    3795.261177\n",
      "2        2         14   30.285714   931.642857  783682.079286\n",
      "3        3          4    1.500000  5773.000000  404790.825000\n"
     ]
    }
   ],
   "source": [
    "# Using the elbow method, is not clear (for me) if the optimal number of clusters should be 2, 3 or 4.\n",
    "# I will then use all three options and see what gives me the most useful insights\n",
    "\n",
    "for k in range(2, 5) :\n",
    "\n",
    "    # run k-means clustering\n",
    "    kmeans = KMeans(n_clusters = k, \n",
    "                    random_state = 42, \n",
    "                    n_init = 50)\n",
    "    kmeans.fit(standardized_data[feature_cols])\n",
    "    \n",
    "    # add cluster labels to the data\n",
    "    data_rfv['Cluster'] = kmeans.labels_\n",
    "\n",
    "    # # plot features for each cluster\n",
    "    # for feature in feature_cols:\n",
    "\n",
    "    #     sns.boxplot(x = 'Cluster', y = feature, data = data_rfv)\n",
    "    #     plt.show()\n",
    "\n",
    "    # Check the metrics by cluster\n",
    "    centroid_data = (\n",
    "        data_rfv.groupby('Cluster')[['CustomerNo', 'Recency', 'Frequency', 'Value']]\n",
    "        .agg(\n",
    "            {\n",
    "                'CustomerNo' : 'nunique',\n",
    "                'Recency' : 'mean',\n",
    "                'Frequency' : 'mean',\n",
    "                'Value' : 'mean'\n",
    "            }\n",
    "        )\n",
    "        .reset_index()\n",
    "    )\n",
    "\n",
    "    # Rename columns\n",
    "    centroid_data.rename(columns = {'CustomerNo' : 'Customers'}, inplace = True)\n",
    "\n",
    "    # See the data\n",
    "    print(centroid_data)"
   ]
  },
  {
   "cell_type": "code",
   "execution_count": 111,
   "metadata": {},
   "outputs": [
    {
     "name": "stdout",
     "output_type": "stream",
     "text": [
      "0.1930519578855619\n",
      "0.07678818128778546\n",
      "0.7301598608266526\n"
     ]
    }
   ],
   "source": [
    "for val in [12155170, 4834830, 45973205]:\n",
    "    print(val / 62963205)"
   ]
  },
  {
   "cell_type": "code",
   "execution_count": null,
   "metadata": {},
   "outputs": [],
   "source": [
    "# Insights:\n",
    "\n",
    "# - 2 clusters: we have a group of customers who has a relatively high recency (~3 months), moderate frequency (~100) and moderate value (~$10,000).\n",
    "# And another group with low recency, very high frequency and high value, but with very few customers (only 17 out of 4718).\n",
    "# It feels like the first group could be broken down into more groups for more informative clusters.\n",
    "\n",
    "# - 3 clusters: first cluster we have is the same as the last one in the 2 clusters case. These are recurrent customers (low recency and very high frequency),\n",
    "# but they also spend a lot of money on the store. They represent ~20% of the total sales, so we want to keep them engaged in the store. Since there are so few of them,\n",
    "# it is easy to personalize the marketing approach to each one of them.\n",
    "# Then we have a cluster of customers with high recency, low frequency and low value. These are customers who have not bought anything in a long time,\n",
    "# so they will likey churn. But, when they do buy, they do not spend much. They represent ~7% in total sales.\n",
    "# Lastly, there is a cluster that buys frequently (low recency and moderate frequency) and spend a moderate amount of money.\n",
    "# This group represents ~73%.These customers are the ones we want to keep engaged in the store, since they represent the majority of the sales.\n",
    "\n",
    "# - 4 clusters: the difference here from the 3 clusters case is that the smaller group is broken down into two even smallers subgroups.\n",
    "# It seems to me that this does not bring a more accurate picture of the business. Even though we see that there are 4 huge outliers in our data (the last cluster),\n",
    "# I would not change the suggested approach for this group from what I have said previously. \n",
    "\n",
    "# Sad that, I would go with 3 clusters, since this seems to better represent the business (at least it seems to be more useful from a business perspective)."
   ]
  },
  {
   "cell_type": "code",
   "execution_count": 113,
   "metadata": {},
   "outputs": [
    {
     "name": "stdout",
     "output_type": "stream",
     "text": [
      "   Cluster  Customers     Recency    Frequency          Value\n",
      "0        0         17   23.058824  2111.411765  715010.604118\n",
      "1        1       1274  244.368132    46.337520    3795.261177\n",
      "2        2       3427   41.195506   126.301722   13415.684076\n"
     ]
    }
   ],
   "source": [
    "kmeans = KMeans(n_clusters = 3, \n",
    "                random_state = 42, \n",
    "                n_init = 50)\n",
    "kmeans.fit(standardized_data[feature_cols])\n",
    "\n",
    "# add cluster labels to the data\n",
    "data_rfv['Cluster'] = kmeans.labels_\n",
    "\n",
    "# Check the metrics by cluster\n",
    "centroid_data = (\n",
    "    data_rfv.groupby('Cluster')[['CustomerNo', 'Recency', 'Frequency', 'Value']]\n",
    "    .agg(\n",
    "        {\n",
    "            'CustomerNo' : 'nunique',\n",
    "            'Recency' : 'mean',\n",
    "            'Frequency' : 'mean',\n",
    "            'Value' : 'mean'\n",
    "        }\n",
    "    )\n",
    "    .reset_index()\n",
    ")\n",
    "\n",
    "# Rename columns\n",
    "centroid_data.rename(columns = {'CustomerNo' : 'Customers'}, inplace = True)\n",
    "\n",
    "# See the data\n",
    "print(centroid_data)"
   ]
  },
  {
   "cell_type": "code",
   "execution_count": 114,
   "metadata": {},
   "outputs": [
    {
     "data": {
      "text/html": [
       "<div>\n",
       "<style scoped>\n",
       "    .dataframe tbody tr th:only-of-type {\n",
       "        vertical-align: middle;\n",
       "    }\n",
       "\n",
       "    .dataframe tbody tr th {\n",
       "        vertical-align: top;\n",
       "    }\n",
       "\n",
       "    .dataframe thead th {\n",
       "        text-align: right;\n",
       "    }\n",
       "</style>\n",
       "<table border=\"1\" class=\"dataframe\">\n",
       "  <thead>\n",
       "    <tr style=\"text-align: right;\">\n",
       "      <th></th>\n",
       "      <th>Cluster</th>\n",
       "      <th>Customers</th>\n",
       "      <th>Recency</th>\n",
       "      <th>Frequency</th>\n",
       "      <th>Value</th>\n",
       "      <th>Label</th>\n",
       "    </tr>\n",
       "  </thead>\n",
       "  <tbody>\n",
       "    <tr>\n",
       "      <th>0</th>\n",
       "      <td>0</td>\n",
       "      <td>17</td>\n",
       "      <td>23.058824</td>\n",
       "      <td>2111.411765</td>\n",
       "      <td>715010.604118</td>\n",
       "      <td>Premium customers</td>\n",
       "    </tr>\n",
       "    <tr>\n",
       "      <th>1</th>\n",
       "      <td>1</td>\n",
       "      <td>1274</td>\n",
       "      <td>244.368132</td>\n",
       "      <td>46.337520</td>\n",
       "      <td>3795.261177</td>\n",
       "      <td>Possible churn</td>\n",
       "    </tr>\n",
       "    <tr>\n",
       "      <th>2</th>\n",
       "      <td>2</td>\n",
       "      <td>3427</td>\n",
       "      <td>41.195506</td>\n",
       "      <td>126.301722</td>\n",
       "      <td>13415.684076</td>\n",
       "      <td>Core customers</td>\n",
       "    </tr>\n",
       "  </tbody>\n",
       "</table>\n",
       "</div>"
      ],
      "text/plain": [
       "   Cluster  Customers     Recency    Frequency          Value   \n",
       "0        0         17   23.058824  2111.411765  715010.604118  \\\n",
       "1        1       1274  244.368132    46.337520    3795.261177   \n",
       "2        2       3427   41.195506   126.301722   13415.684076   \n",
       "\n",
       "               Label  \n",
       "0  Premium customers  \n",
       "1     Possible churn  \n",
       "2     Core customers  "
      ]
     },
     "execution_count": 114,
     "metadata": {},
     "output_type": "execute_result"
    }
   ],
   "source": [
    "# Create informative labels for each cluster\n",
    "\n",
    "labels = [\n",
    "    'Premium customers',\n",
    "    'Possible churn',\n",
    "    'Core customers'\n",
    "]\n",
    "\n",
    "centroid_data['Label'] = labels\n",
    "\n",
    "centroid_data"
   ]
  }
 ],
 "metadata": {
  "kernelspec": {
   "display_name": "Python 3",
   "language": "python",
   "name": "python3"
  },
  "language_info": {
   "codemirror_mode": {
    "name": "ipython",
    "version": 3
   },
   "file_extension": ".py",
   "mimetype": "text/x-python",
   "name": "python",
   "nbconvert_exporter": "python",
   "pygments_lexer": "ipython3",
   "version": "3.9.5"
  }
 },
 "nbformat": 4,
 "nbformat_minor": 2
}
